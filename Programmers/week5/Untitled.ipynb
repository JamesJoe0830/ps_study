{
 "cells": [
  {
   "cell_type": "markdown",
   "id": "ae359c0b",
   "metadata": {},
   "source": [
    "import sys\n",
    "print(list_a = list(map(int,input().split(''))))\n",
    "#for i in range(len())"
   ]
  },
  {
   "cell_type": "code",
   "execution_count": 54,
   "id": "b39ce9c7",
   "metadata": {
    "scrolled": true
   },
   "outputs": [
    {
     "name": "stdout",
     "output_type": "stream",
     "text": [
      "23001\n"
     ]
    }
   ],
   "source": [
    "import sys\n",
    "list_a = list(map(str, input().split()))\n",
    "for i in range(len(list_a)):\n",
    "      if list_a[i] == '0':\n",
    "        print((list_a[0:i]))\n",
    "        print(list_a)\n",
    "#     else:\n",
    "#         continue"
   ]
  },
  {
   "cell_type": "code",
   "execution_count": null,
   "id": "0835daff",
   "metadata": {},
   "outputs": [],
   "source": []
  }
 ],
 "metadata": {
  "kernelspec": {
   "display_name": "Python 3 (ipykernel)",
   "language": "python",
   "name": "python3"
  },
  "language_info": {
   "codemirror_mode": {
    "name": "ipython",
    "version": 3
   },
   "file_extension": ".py",
   "mimetype": "text/x-python",
   "name": "python",
   "nbconvert_exporter": "python",
   "pygments_lexer": "ipython3",
   "version": "3.9.13"
  }
 },
 "nbformat": 4,
 "nbformat_minor": 5
}
