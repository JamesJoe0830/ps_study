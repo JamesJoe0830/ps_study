{
 "cells": [
  {
   "cell_type": "markdown",
   "id": "ffb0d3c6",
   "metadata": {},
   "source": [
    "import sys\n",
    "print(list_a = list(map(int,input().split(''))))\n",
    "#for i in range(len())"
   ]
  },
  {
   "cell_type": "code",
   "execution_count": 14,
   "id": "5f57e543",
   "metadata": {
    "scrolled": true
   },
   "outputs": [
    {
     "ename": "SyntaxError",
     "evalue": "invalid syntax (3626495578.py, line 8)",
     "output_type": "error",
     "traceback": [
      "\u001b[0;36m  File \u001b[0;32m\"/var/folders/pq/7qk5c9m57gg6xnb3d4xv7w600000gn/T/ipykernel_5098/3626495578.py\"\u001b[0;36m, line \u001b[0;32m8\u001b[0m\n\u001b[0;31m    else:\u001b[0m\n\u001b[0m    ^\u001b[0m\n\u001b[0;31mSyntaxError\u001b[0m\u001b[0;31m:\u001b[0m invalid syntax\n"
     ]
    }
   ],
   "source": [
    "import sys\n",
    "list_a = list(map(int, input().split()))\n",
    "print(list_a)\n",
    "for i in range(list_a):\n",
    "    if list_a[i] == 0:\n",
    "        print(max(list_a[0:i])\n",
    "#         max(list_a[0:i])=''\n",
    "#     else:\n",
    "#         break"
   ]
  }
 ],
 "metadata": {
  "kernelspec": {
   "display_name": "Python 3 (ipykernel)",
   "language": "python",
   "name": "python3"
  },
  "language_info": {
   "codemirror_mode": {
    "name": "ipython",
    "version": 3
   },
   "file_extension": ".py",
   "mimetype": "text/x-python",
   "name": "python",
   "nbconvert_exporter": "python",
   "pygments_lexer": "ipython3",
   "version": "3.9.13"
  }
 },
 "nbformat": 4,
 "nbformat_minor": 5
}
